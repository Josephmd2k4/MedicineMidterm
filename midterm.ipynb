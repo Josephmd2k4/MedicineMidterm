{
  "cells": [
    {
      "cell_type": "markdown",
      "metadata": {
        "id": "view-in-github",
        "colab_type": "text"
      },
      "source": [
        "<a href=\"https://colab.research.google.com/github/Josephmd2k4/MedicineMidterm/blob/main/midterm.ipynb\" target=\"_parent\"><img src=\"https://colab.research.google.com/assets/colab-badge.svg\" alt=\"Open In Colab\"/></a>"
      ]
    },
    {
      "cell_type": "code",
      "execution_count": 42,
      "metadata": {
        "id": "4LX9jS0q40Jp"
      },
      "outputs": [],
      "source": [
        "from sklearn.datasets import load_digits\n",
        "import numpy as np\n",
        "from sklearn.linear_model import Perceptron\n",
        "from matplotlib.colors import ListedColormap\n",
        "import matplotlib.pyplot as plt\n",
        "import matplotlib\n",
        "from sklearn.ensemble import RandomForestClassifier\n",
        "from sklearn.metrics import accuracy_score, classification_report, confusion_matrix"
      ]
    },
    {
      "cell_type": "markdown",
      "source": [
        "Run code that all machine learning methods need, getting the data and splitting it into a training set and a testing set. Then standardizing the data."
      ],
      "metadata": {
        "id": "CeSGFrFG5GFC"
      }
    },
    {
      "cell_type": "code",
      "execution_count": 43,
      "metadata": {
        "id": "orIRoV1340Jp"
      },
      "outputs": [],
      "source": [
        "from sklearn.model_selection import train_test_split\n",
        "from sklearn.preprocessing import StandardScaler\n",
        "\n",
        "X, y = load_digits(return_X_y= True)\n",
        "X_train, X_test, y_train, y_test = train_test_split(X, y, test_size=0.3, random_state=5, stratify=y)\n",
        "scaler = StandardScaler()\n",
        "X_train_std = scaler.fit_transform(X_train)\n",
        "X_test_std = scaler.transform(X_test)"
      ]
    },
    {
      "cell_type": "markdown",
      "source": [
        "Logistic Regression code"
      ],
      "metadata": {
        "id": "BUBE5zjq5WUj"
      }
    },
    {
      "cell_type": "code",
      "execution_count": 44,
      "metadata": {
        "colab": {
          "base_uri": "https://localhost:8080/"
        },
        "id": "g22rLsAz40Jq",
        "outputId": "b0b9c63d-2779-4cfd-e1a5-b777e6e2f256"
      },
      "outputs": [
        {
          "output_type": "stream",
          "name": "stdout",
          "text": [
            "Misclassified examples: 14\n",
            "Accuracy: 97.41%\n",
            "          526/540\n",
            "Classification Report:\n",
            "              precision    recall  f1-score   support\n",
            "\n",
            "           0       0.98      1.00      0.99        54\n",
            "           1       0.96      0.98      0.97        55\n",
            "           2       0.96      1.00      0.98        53\n",
            "           3       1.00      0.96      0.98        55\n",
            "           4       1.00      0.98      0.99        54\n",
            "           5       1.00      0.95      0.97        55\n",
            "           6       0.98      0.98      0.98        54\n",
            "           7       0.98      0.98      0.98        54\n",
            "           8       0.94      0.94      0.94        52\n",
            "           9       0.93      0.96      0.95        54\n",
            "\n",
            "    accuracy                           0.97       540\n",
            "   macro avg       0.97      0.97      0.97       540\n",
            "weighted avg       0.97      0.97      0.97       540\n",
            "\n",
            "Confusion Matrix:\n",
            "[[54  0  0  0  0  0  0  0  0  0]\n",
            " [ 0 54  0  0  0  0  0  0  1  0]\n",
            " [ 0  0 53  0  0  0  0  0  0  0]\n",
            " [ 0  0  1 53  0  0  0  0  1  0]\n",
            " [ 0  0  0  0 53  0  0  0  0  1]\n",
            " [ 0  0  0  0  0 52  1  0  0  2]\n",
            " [ 0  1  0  0  0  0 53  0  0  0]\n",
            " [ 0  0  0  0  0  0  0 53  0  1]\n",
            " [ 1  1  1  0  0  0  0  0 49  0]\n",
            " [ 0  0  0  0  0  0  0  1  1 52]]\n"
          ]
        },
        {
          "output_type": "stream",
          "name": "stderr",
          "text": [
            "/usr/local/lib/python3.10/dist-packages/sklearn/linear_model/_logistic.py:458: ConvergenceWarning: lbfgs failed to converge (status=1):\n",
            "STOP: TOTAL NO. of ITERATIONS REACHED LIMIT.\n",
            "\n",
            "Increase the number of iterations (max_iter) or scale the data as shown in:\n",
            "    https://scikit-learn.org/stable/modules/preprocessing.html\n",
            "Please also refer to the documentation for alternative solver options:\n",
            "    https://scikit-learn.org/stable/modules/linear_model.html#logistic-regression\n",
            "  n_iter_i = _check_optimize_result(\n"
          ]
        }
      ],
      "source": [
        "from sklearn.linear_model import LogisticRegression\n",
        "#create logistic regression object with sklearn, fit the data into it\n",
        "lr = LogisticRegression(C=10.0, solver='lbfgs', multi_class='multinomial')\n",
        "lr.fit(X_train_std, y_train)\n",
        "\n",
        "#predict labels based on the fitted data\n",
        "y_pred = lr.predict(X_test_std)\n",
        "\n",
        "#compute accuracy and amount missed\n",
        "accuracy = accuracy_score(y_test, y_pred)\n",
        "missed = (y_test != y_pred).sum()\n",
        "print(f'Misclassified examples: {missed}')\n",
        "print(f\"Accuracy: {100* accuracy:.2f}%\")\n",
        "print(f\"          {y_test.size - missed}/{y_test.size}\")\n",
        "\n",
        "#print classification report and confusion matrix\n",
        "print(\"Classification Report:\")\n",
        "print(classification_report(y_test, y_pred))\n",
        "print(\"Confusion Matrix:\")\n",
        "print(confusion_matrix(y_test, y_pred))\n",
        "\n"
      ]
    },
    {
      "cell_type": "markdown",
      "source": [
        "Multi-Layer Perceptron Code"
      ],
      "metadata": {
        "id": "m0d-YYfH6Hf8"
      }
    },
    {
      "cell_type": "code",
      "source": [
        "from sklearn.neural_network import MLPClassifier\n",
        "\n",
        "\n",
        "mlp = MLPClassifier(hidden_layer_sizes=(64, 32), max_iter=1000, random_state=42)\n",
        "mlp.fit(X_train_std, y_train)\n",
        "\n",
        "\n",
        "y_pred = mlp.predict(X_test_std)\n",
        "\n",
        "\n",
        "accuracy = accuracy_score(y_test, y_pred)\n",
        "missed = (y_test != y_pred).sum()\n",
        "print(f'Misclassified examples: {missed}')\n",
        "print(f\"Accuracy: {100* accuracy:.2f}%\")\n",
        "print(f\"          {y_test.size - missed}/{y_test.size}\")\n",
        "\n",
        "print(\"Classification Report:\")\n",
        "print(classification_report(y_test, y_pred))\n",
        "print(\"Confusion Matrix:\")\n",
        "print(confusion_matrix(y_test, y_pred))"
      ],
      "metadata": {
        "colab": {
          "base_uri": "https://localhost:8080/"
        },
        "id": "z669eGT56MAC",
        "outputId": "ea1990b6-9be8-4a28-a16d-5be73c67e3a1"
      },
      "execution_count": 37,
      "outputs": [
        {
          "output_type": "stream",
          "name": "stdout",
          "text": [
            "Misclassified examples: 15\n",
            "Accuracy: 97.22%\n",
            "          525/540\n",
            "Classification Report:\n",
            "              precision    recall  f1-score   support\n",
            "\n",
            "           0       0.98      1.00      0.99        54\n",
            "           1       0.95      1.00      0.97        55\n",
            "           2       0.96      0.98      0.97        53\n",
            "           3       0.98      0.95      0.96        55\n",
            "           4       1.00      1.00      1.00        54\n",
            "           5       1.00      0.93      0.96        55\n",
            "           6       0.98      0.96      0.97        54\n",
            "           7       0.96      0.98      0.97        54\n",
            "           8       0.96      0.94      0.95        52\n",
            "           9       0.95      0.98      0.96        54\n",
            "\n",
            "    accuracy                           0.97       540\n",
            "   macro avg       0.97      0.97      0.97       540\n",
            "weighted avg       0.97      0.97      0.97       540\n",
            "\n",
            "Confusion Matrix:\n",
            "[[54  0  0  0  0  0  0  0  0  0]\n",
            " [ 0 55  0  0  0  0  0  0  0  0]\n",
            " [ 0  0 52  0  0  0  0  1  0  0]\n",
            " [ 0  0  1 52  0  0  0  1  1  0]\n",
            " [ 0  0  0  0 54  0  0  0  0  0]\n",
            " [ 0  0  0  1  0 51  1  0  0  2]\n",
            " [ 0  2  0  0  0  0 52  0  0  0]\n",
            " [ 0  0  0  0  0  0  0 53  0  1]\n",
            " [ 1  1  1  0  0  0  0  0 49  0]\n",
            " [ 0  0  0  0  0  0  0  0  1 53]]\n"
          ]
        }
      ]
    },
    {
      "cell_type": "markdown",
      "source": [
        "K nearest Neighbor Code"
      ],
      "metadata": {
        "id": "eETWH6mK7PT_"
      }
    },
    {
      "cell_type": "code",
      "source": [
        "from sklearn.neighbors import KNeighborsClassifier\n",
        "\n",
        "knn_classifier = KNeighborsClassifier(n_neighbors=5)\n",
        "knn_classifier.fit(X_train, y_train)\n",
        "\n",
        "\n",
        "y_pred = knn_classifier.predict(X_test)\n",
        "\n",
        "\n",
        "accuracy = accuracy_score(y_test, y_pred)\n",
        "missed = (y_test != y_pred).sum()\n",
        "print(f'Misclassified examples: {missed}')\n",
        "print(f\"Accuracy: {100* accuracy:.2f}%\")\n",
        "print(f\"          {y_test.size - missed}/{y_test.size}\")\n",
        "\n",
        "print(\"Classification Report:\")\n",
        "print(classification_report(y_test, y_pred))\n",
        "print(\"Confusion Matrix:\")\n",
        "print(confusion_matrix(y_test, y_pred))"
      ],
      "metadata": {
        "colab": {
          "base_uri": "https://localhost:8080/"
        },
        "id": "xp2brLkc7SO9",
        "outputId": "44b17ed3-cd9b-48f1-f984-71ffea5d6240"
      },
      "execution_count": 38,
      "outputs": [
        {
          "output_type": "stream",
          "name": "stdout",
          "text": [
            "Misclassified examples: 10\n",
            "Accuracy: 98.15%\n",
            "          530/540\n",
            "Classification Report:\n",
            "              precision    recall  f1-score   support\n",
            "\n",
            "           0       1.00      1.00      1.00        54\n",
            "           1       0.95      1.00      0.97        55\n",
            "           2       1.00      0.98      0.99        53\n",
            "           3       1.00      0.96      0.98        55\n",
            "           4       1.00      1.00      1.00        54\n",
            "           5       1.00      0.96      0.98        55\n",
            "           6       0.98      1.00      0.99        54\n",
            "           7       0.95      1.00      0.97        54\n",
            "           8       0.98      0.94      0.96        52\n",
            "           9       0.96      0.96      0.96        54\n",
            "\n",
            "    accuracy                           0.98       540\n",
            "   macro avg       0.98      0.98      0.98       540\n",
            "weighted avg       0.98      0.98      0.98       540\n",
            "\n",
            "Confusion Matrix:\n",
            "[[54  0  0  0  0  0  0  0  0  0]\n",
            " [ 0 55  0  0  0  0  0  0  0  0]\n",
            " [ 0  0 52  0  0  0  0  1  0  0]\n",
            " [ 0  0  0 53  0  0  0  2  0  0]\n",
            " [ 0  0  0  0 54  0  0  0  0  0]\n",
            " [ 0  0  0  0  0 53  1  0  0  1]\n",
            " [ 0  0  0  0  0  0 54  0  0  0]\n",
            " [ 0  0  0  0  0  0  0 54  0  0]\n",
            " [ 0  2  0  0  0  0  0  0 49  1]\n",
            " [ 0  1  0  0  0  0  0  0  1 52]]\n"
          ]
        }
      ]
    },
    {
      "cell_type": "markdown",
      "source": [
        "SVM Code"
      ],
      "metadata": {
        "id": "edk0Gr7X7gJX"
      }
    },
    {
      "cell_type": "code",
      "source": [
        "from sklearn.svm import SVC\n",
        "\n",
        "svm_classifier = SVC(kernel='linear')\n",
        "svm_classifier.fit(X_train_std, y_train)\n",
        "\n",
        "\n",
        "y_pred = svm_classifier.predict(X_test_std)\n",
        "\n",
        "\n",
        "accuracy = accuracy_score(y_test, y_pred)\n",
        "missed = (y_test != y_pred).sum()\n",
        "print(f'Misclassified examples: {missed}')\n",
        "print(f\"Accuracy: {100* accuracy:.2f}%\")\n",
        "print(f\"          {y_test.size - missed}/{y_test.size}\")\n",
        "\n",
        "print(\"Classification Report:\")\n",
        "print(classification_report(y_test, y_pred))\n",
        "print(\"Confusion Matrix:\")\n",
        "print(confusion_matrix(y_test, y_pred))"
      ],
      "metadata": {
        "colab": {
          "base_uri": "https://localhost:8080/"
        },
        "id": "Bt3tGaIs7pHR",
        "outputId": "98aeeb90-6153-4095-8159-4cb924a19c33"
      },
      "execution_count": 39,
      "outputs": [
        {
          "output_type": "stream",
          "name": "stdout",
          "text": [
            "Misclassified examples: 12\n",
            "Accuracy: 97.78%\n",
            "          528/540\n",
            "Classification Report:\n",
            "              precision    recall  f1-score   support\n",
            "\n",
            "           0       1.00      1.00      1.00        54\n",
            "           1       0.95      1.00      0.97        55\n",
            "           2       0.96      1.00      0.98        53\n",
            "           3       0.98      0.96      0.97        55\n",
            "           4       1.00      1.00      1.00        54\n",
            "           5       1.00      0.98      0.99        55\n",
            "           6       1.00      0.98      0.99        54\n",
            "           7       0.98      0.98      0.98        54\n",
            "           8       0.94      0.94      0.94        52\n",
            "           9       0.96      0.93      0.94        54\n",
            "\n",
            "    accuracy                           0.98       540\n",
            "   macro avg       0.98      0.98      0.98       540\n",
            "weighted avg       0.98      0.98      0.98       540\n",
            "\n",
            "Confusion Matrix:\n",
            "[[54  0  0  0  0  0  0  0  0  0]\n",
            " [ 0 55  0  0  0  0  0  0  0  0]\n",
            " [ 0  0 53  0  0  0  0  0  0  0]\n",
            " [ 0  0  1 53  0  0  0  0  1  0]\n",
            " [ 0  0  0  0 54  0  0  0  0  0]\n",
            " [ 0  0  0  0  0 54  0  0  0  1]\n",
            " [ 0  1  0  0  0  0 53  0  0  0]\n",
            " [ 0  0  0  0  0  0  0 53  0  1]\n",
            " [ 0  2  1  0  0  0  0  0 49  0]\n",
            " [ 0  0  0  1  0  0  0  1  2 50]]\n"
          ]
        }
      ]
    }
  ],
  "metadata": {
    "kernelspec": {
      "display_name": "Python 3",
      "language": "python",
      "name": "python3"
    },
    "language_info": {
      "codemirror_mode": {
        "name": "ipython",
        "version": 3
      },
      "file_extension": ".py",
      "mimetype": "text/x-python",
      "name": "python",
      "nbconvert_exporter": "python",
      "pygments_lexer": "ipython3",
      "version": "3.9.18"
    },
    "colab": {
      "provenance": [],
      "include_colab_link": true
    }
  },
  "nbformat": 4,
  "nbformat_minor": 0
}